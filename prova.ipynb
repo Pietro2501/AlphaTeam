{
 "cells": [
  {
   "metadata": {
    "ExecuteTime": {
     "end_time": "2024-12-03T16:56:09.060593Z",
     "start_time": "2024-12-03T16:56:08.259088Z"
    }
   },
   "cell_type": "code",
   "source": [
    "from BioTools import tools,trimming\n",
    "\n",
    "fw_file = tools.extract_info('BAM_1012_136_R1.fastq.gz','forward')\n",
    "rev_file = tools.extract_info('BAM_1012_136_R2.fastq.gz','reverse')"
   ],
   "id": "86a663c98941ec29",
   "outputs": [],
   "execution_count": 1
  },
  {
   "metadata": {
    "ExecuteTime": {
     "end_time": "2024-12-03T16:56:09.117579Z",
     "start_time": "2024-12-03T16:56:09.087108Z"
    }
   },
   "cell_type": "code",
   "source": [
    "from BioTools import parse_fastq\n",
    "\n",
    "with open('prova_forward.fastq','r') as fw:\n",
    "    fw_diz = parse_fastq.parse_fastq(fw,offset=33)\n",
    "with open('prova_reverse.fastq','r') as rev:\n",
    "    rev_diz = parse_fastq.parse_fastq(rev,offset=33)"
   ],
   "id": "initial_id",
   "outputs": [],
   "execution_count": 2
  },
  {
   "metadata": {
    "ExecuteTime": {
     "end_time": "2024-12-03T16:56:09.172516Z",
     "start_time": "2024-12-03T16:56:09.128953Z"
    }
   },
   "cell_type": "code",
   "source": [
    "def align_acc_number(diz_1:dict,diz_2:dict):\n",
    "    diz_fw_rev = {}\n",
    "    for i in diz_1.keys():\n",
    "        for j in diz_2.keys():\n",
    "            if i == j:\n",
    "                diz_fw_rev[i] = {\n",
    "                    \"fw_sequence\": diz_1[i]['seq'],\n",
    "                    \"fw_qual\": diz_1[i]['qual'],\n",
    "                    \"rev_sequence\": diz_2[i]['seq'],\n",
    "                    \"rev_qual\": diz_2[i]['qual'],\n",
    "                }\n",
    "    return diz_fw_rev\n",
    "\n",
    "diz_unito = align_acc_number(fw_diz,rev_diz)\n",
    "    "
   ],
   "id": "aad1af87527e5121",
   "outputs": [],
   "execution_count": 3
  },
  {
   "metadata": {
    "ExecuteTime": {
     "end_time": "2024-12-03T16:56:11.837813Z",
     "start_time": "2024-12-03T16:56:11.829219Z"
    }
   },
   "cell_type": "code",
   "source": "print(diz_unito)",
   "id": "cd9491053cff5e0",
   "outputs": [
    {
     "name": "stdout",
     "output_type": "stream",
     "text": [
      "{'@SRR1734369.2681273': {'fw_sequence': 'TCCGTAGGGGGCGAGCGTTGTCCGGAATCACTGGGCGTAAAGGGCGCGTAGGCGGCAATATAAGTCAGATGTGAAAGGTGAGGGCTCAACCCTTAGACTGCATCTGATACTGTATAGCTTGAGTGTGAGAGAGGAAAGCGGAATTCCTAGT', 'fw_qual': [29, 18, 29, 32, 32, 37, 33, 32, 32, 33, 33, 33, 36, 34, 32, 36, 37, 36, 38, 38, 38, 38, 39, 36, 34, 35, 30, 37, 18, 20, 33, 38, 37, 37, 38, 36, 37, 36, 36, 36, 35, 35, 35, 35, 36, 36, 38, 38, 14, 36, 31, 35, 37, 30, 36, 27, 36, 36, 37, 36, 39, 37, 39, 39, 33, 17, 37, 37, 30, 38, 17, 33, 37, 33, 38, 37, 38, 39, 37, 38, 38, 39, 32, 35, 35, 37, 37, 37, 39, 37, 37, 35, 34, 38, 37, 35, 37, 38, 36, 37, 37, 38, 39, 37, 16, 37, 35, 35, 37, 38, 35, 37, 38, 37, 39, 39, 27, 37, 35, 35, 38, 27, 27, 27, 35, 15, 28, 15, 28, 35, 38, 34, 27, 34, 13, 25, 25, 34, 38, 38, 34, 12, 26, 36, 38, 33, 37, 38, 37, 37, 15], 'rev_sequence': 'CCTGTTTGCTACCCACGCTTTCGCGCCTCAGCGTCAGTTATGAGCCAGAAAGCCGCCTTCGCCACTGGTGCTCCTCCTAATATCTACGCATTTCACCGCTACACTAGGAATTCCGCTTTCCTCTCTCACACTCAAGCTATACAGTATCAGA', 'rev_qual': [16, 16, 29, 32, 32, 16, 33, 29, 35, 37, 18, 31, 38, 16, 16, 36, 32, 36, 16, 32, 32, 37, 36, 34, 34, 15, 32, 36, 36, 38, 33, 34, 30, 33, 32, 36, 38, 39, 39, 39, 39, 39, 38, 38, 37, 39, 39, 39, 32, 36, 38, 39, 37, 15, 36, 36, 38, 36, 37, 39, 38, 38, 38, 14, 33, 31, 34, 29, 33, 29, 36, 38, 39, 37, 39, 39, 33, 38, 39, 39, 37, 39, 38, 38, 37, 33, 38, 38, 38, 38, 38, 38, 39, 37, 39, 37, 39, 36, 38, 36, 30, 34, 33, 38, 33, 39, 33, 37, 27, 33, 38, 37, 39, 38, 38, 38, 37, 33, 38, 37, 38, 38, 38, 38, 34, 38, 39, 33, 35, 37, 39, 39, 39, 39, 39, 38, 36, 37, 37, 39, 39, 37, 39, 39, 39, 39, 39, 39, 38, 37, 35]}, '@SRR1734369.8163413': {'fw_sequence': 'AACGTAGGGTGCAAGCGTTGTCCGGAATTACTGGGTGTAAAGGGAGCGCAGGCGGGAAGACAAGTTGGAAGTGAAAACCATGGGCTCAACCCATGAATTGCTTTCAAAACTGTTTTTCTTGAGTAGTGCAGAGGTAGATGGAATTCCCGGT', 'fw_qual': [29, 32, 32, 33, 33, 37, 37, 33, 33, 37, 33, 33, 38, 38, 38, 38, 38, 38, 38, 38, 38, 38, 39, 38, 38, 38, 37, 37, 39, 39, 39, 39, 38, 39, 39, 37, 37, 38, 38, 39, 39, 39, 38, 38, 36, 38, 38, 38, 38, 38, 38, 38, 38, 38, 38, 14, 14, 29, 32, 37, 38, 39, 39, 39, 39, 39, 39, 39, 37, 37, 38, 39, 39, 33, 39, 39, 39, 39, 38, 37, 39, 39, 39, 39, 39, 39, 39, 39, 39, 39, 39, 38, 32, 34, 34, 33, 37, 38, 38, 37, 37, 35, 38, 38, 37, 37, 38, 39, 38, 39, 37, 39, 39, 39, 39, 39, 38, 39, 39, 39, 36, 27, 37, 38, 39, 39, 39, 39, 38, 39, 39, 36, 39, 38, 38, 38, 39, 37, 38, 37, 39, 39, 39, 39, 39, 37, 39, 39, 38, 38, 12], 'rev_sequence': 'CCTGTTTGCTACCCATGCTTTCGAGCCTCAGCGTCAGTTGGTGCCCAGTAGACCGCCTTCGCCACTGGTGTTCCTCCCGATACCTACGCATTCCACCGCTACACCGGGAATTCCATCTACCTCTGCACTACTCAAGAAAAACAGTTTTGAA', 'rev_qual': [33, 33, 33, 33, 33, 37, 37, 37, 37, 37, 37, 37, 38, 38, 38, 38, 38, 38, 38, 38, 38, 38, 38, 17, 37, 36, 38, 39, 39, 39, 39, 38, 35, 38, 38, 36, 38, 39, 38, 20, 37, 36, 36, 38, 39, 39, 39, 39, 39, 38, 38, 33, 37, 38, 30, 36, 38, 36, 38, 39, 39, 38, 37, 37, 38, 39, 38, 39, 38, 37, 37, 36, 39, 39, 38, 39, 39, 38, 38, 38, 38, 38, 38, 39, 39, 37, 37, 38, 38, 36, 38, 38, 38, 39, 39, 39, 39, 38, 38, 38, 36, 36, 38, 39, 39, 38, 38, 38, 27, 31, 37, 38, 38, 37, 37, 38, 38, 39, 38, 38, 39, 39, 39, 39, 37, 39, 35, 38, 39, 39, 39, 39, 39, 39, 39, 36, 16, 15, 30, 15, 30, 32, 38, 38, 37, 37, 37, 38, 34, 37, 35]}, '@SRR1734369.15311199': {'fw_sequence': 'TACAGAGGTCTCAAGCGTTGTTCGGAATCACTGGGCGTAAAGCGTGCGTAGGCTGTTTCGTAAGTCGTGTGTGAAAGGCAGGGGCTCAACCCCTGGATTGCACATGATACTGCGAGACTAGAGTAATGGAGGGGGAACCGGAATTCTCGGT', 'fw_qual': [33, 33, 34, 34, 34, 37, 37, 34, 37, 37, 37, 37, 38, 38, 38, 38, 38, 38, 38, 38, 38, 38, 39, 38, 38, 38, 38, 38, 39, 39, 39, 39, 39, 39, 38, 39, 38, 38, 38, 38, 39, 39, 39, 38, 38, 35, 38, 38, 37, 38, 38, 38, 39, 39, 38, 39, 39, 39, 39, 38, 39, 39, 39, 39, 39, 39, 38, 38, 38, 39, 39, 38, 39, 39, 39, 39, 39, 39, 39, 39, 38, 38, 37, 38, 36, 38, 39, 39, 39, 39, 39, 38, 38, 38, 38, 39, 39, 39, 39, 39, 38, 39, 39, 39, 39, 39, 39, 39, 39, 39, 39, 39, 39, 38, 38, 38, 38, 38, 39, 39, 39, 39, 39, 39, 38, 39, 39, 39, 39, 39, 39, 38, 38, 38, 38, 38, 38, 38, 38, 38, 38, 38, 38, 38, 39, 39, 39, 38, 38, 38, 38], 'rev_sequence': 'CCCTTTCGCTCCCCTGGCCTTCGTGCCTCAGCGTCAGTTAATGTCCAGGAACCCGCCTTCGCCACGAGTGTTCCTCTCGATATCTACGCATTTCACTGCTACACCGAGAATTCCGGTTCCCCCTCCATTACTCTAGTCTCGCAGTATCATG', 'rev_qual': [33, 33, 33, 33, 33, 37, 37, 33, 32, 32, 33, 33, 38, 38, 38, 34, 38, 38, 38, 38, 38, 38, 38, 37, 38, 38, 39, 39, 37, 39, 38, 39, 34, 36, 37, 38, 38, 38, 39, 39, 39, 39, 38, 39, 39, 39, 39, 39, 38, 37, 39, 39, 38, 38, 38, 38, 38, 32, 36, 38, 37, 37, 38, 37, 38, 38, 34, 37, 36, 34, 36, 38, 39, 39, 39, 39, 39, 39, 38, 39, 39, 39, 36, 39, 39, 38, 39, 38, 38, 38, 38, 38, 39, 39, 39, 39, 39, 39, 38, 39, 39, 37, 39, 39, 39, 38, 38, 38, 38, 38, 39, 39, 39, 39, 38, 30, 27, 34, 38, 39, 39, 39, 38, 38, 38, 38, 39, 39, 39, 39, 39, 39, 39, 38, 39, 39, 39, 39, 39, 39, 39, 38, 38, 35, 36, 37, 38, 39, 39, 37, 16]}, '@SRR1734369.2690313': {'fw_sequence': 'TACGGAGGATCCGAGCGTTATCCGGATTTATTGGGTTTAAAGGGAGCGTAGGCGGACGCTTAAGTCAGTTGTGAAAGTTTGCGGCTCAACCGTAAAATTGCAGTTGATACTGGGTGTCTTGAGTACAGTAGAGGCAGGCGGAATTCGTGGG', 'fw_qual': [32, 32, 16, 32, 32, 30, 32, 35, 32, 37, 37, 34, 37, 36, 36, 38, 15, 32, 36, 36, 38, 38, 39, 38, 38, 36, 32, 36, 39, 37, 38, 39, 34, 37, 39, 32, 14, 36, 37, 38, 37, 39, 37, 38, 36, 37, 36, 36, 36, 36, 38, 38, 38, 38, 36, 30, 29, 14, 14, 30, 37, 14, 33, 31, 33, 38, 37, 37, 38, 39, 39, 38, 36, 35, 38, 37, 37, 37, 36, 38, 37, 33, 14, 36, 38, 38, 34, 37, 39, 39, 37, 34, 38, 32, 14, 30, 17, 37, 33, 38, 35, 33, 38, 30, 29, 38, 35, 38, 17, 30, 30, 38, 34, 37, 30, 34, 14, 30, 38, 39, 37, 16, 38, 39, 16, 38, 39, 39, 39, 39, 38, 37, 38, 39, 13, 13, 27, 27, 13, 27, 31, 31, 12, 26, 34, 25, 34, 34, 37, 38, 12], 'rev_sequence': 'CCTGTTTGATACCCACACTTTCGAGCATCAGTGTCAGTTGCAGTCTAGTGAGCTGCCTTCGCAATCGGAGTTCTTCGTGATATCTAAGCATTTCACCGCTACACCACGAATTCCGCCTGCCTCTACTGTACTCAAGACACCCAGTATCAAC', 'rev_qual': [18, 29, 32, 32, 32, 35, 37, 34, 37, 37, 37, 37, 38, 38, 34, 37, 37, 34, 38, 38, 36, 38, 38, 38, 39, 38, 38, 39, 38, 38, 19, 20, 20, 35, 37, 37, 38, 20, 37, 37, 39, 37, 37, 39, 39, 37, 36, 39, 39, 39, 39, 39, 39, 39, 37, 39, 39, 37, 38, 39, 37, 37, 38, 38, 36, 39, 38, 35, 36, 36, 37, 39, 38, 39, 39, 39, 39, 39, 38, 37, 39, 38, 38, 38, 38, 39, 38, 39, 38, 33, 39, 39, 39, 38, 38, 39, 39, 38, 38, 38, 37, 34, 33, 38, 38, 36, 39, 38, 36, 37, 39, 39, 37, 39, 39, 14, 36, 36, 38, 39, 39, 39, 39, 39, 39, 39, 39, 39, 38, 39, 38, 39, 38, 39, 37, 39, 36, 38, 37, 39, 38, 37, 38, 39, 39, 39, 39, 39, 39, 39, 39]}, '@SRR1734369.2681278': {'fw_sequence': 'TACGGAGGATCCGAGCGTTATCCGGATTTATTGGGTTTAAAGGGAGCGTAGGCGGACGCTTAAGTCAGTTGTGAAAGTTTGCGGCTCAACCGTAAAATTGCAGTTGATACTGGCGACCTTGAGTGCAACAGAGGTAGGCGGAATTCGTGGT', 'fw_qual': [34, 34, 34, 34, 34, 34, 34, 33, 34, 37, 37, 37, 38, 38, 38, 38, 38, 38, 38, 38, 38, 38, 39, 38, 38, 38, 38, 38, 39, 39, 39, 39, 39, 39, 39, 38, 37, 38, 39, 39, 39, 39, 39, 38, 39, 38, 38, 38, 38, 38, 38, 38, 39, 38, 38, 38, 38, 38, 38, 38, 38, 38, 39, 39, 39, 39, 39, 39, 39, 39, 39, 39, 38, 39, 39, 39, 39, 39, 39, 39, 39, 39, 38, 38, 38, 38, 38, 39, 39, 39, 39, 38, 38, 39, 38, 39, 39, 39, 39, 39, 39, 39, 39, 39, 39, 39, 39, 39, 39, 39, 39, 39, 39, 39, 38, 38, 38, 38, 38, 39, 39, 39, 39, 39, 39, 39, 39, 39, 39, 39, 39, 39, 39, 38, 39, 39, 39, 38, 39, 38, 38, 38, 38, 38, 39, 39, 38, 39, 38, 38, 34], 'rev_sequence': 'CCTGTTTGATACCCACACTTTCGAGCATCAGTGTCAGTTGCAGTCTAGTGAGCTGCCTTCGCAATCGGAGTTCTTCGTGATATCTAAGCATTTCACCGCTACACCACGAATTCCGCCTACCTCTGTTGCACTCAAGGTCGCCAGTATCAAC', 'rev_qual': [33, 33, 33, 32, 33, 37, 37, 37, 37, 37, 37, 37, 38, 38, 38, 38, 38, 38, 38, 37, 37, 38, 38, 38, 39, 38, 38, 39, 37, 39, 33, 36, 37, 38, 38, 39, 38, 39, 39, 39, 39, 39, 39, 38, 39, 39, 37, 39, 39, 39, 38, 39, 39, 39, 33, 38, 39, 37, 39, 38, 36, 36, 36, 38, 36, 39, 38, 32, 33, 32, 36, 38, 39, 39, 39, 39, 39, 39, 38, 39, 39, 39, 38, 39, 39, 38, 38, 38, 39, 37, 39, 39, 39, 39, 39, 39, 39, 38, 37, 38, 37, 34, 38, 39, 38, 39, 39, 37, 36, 14, 37, 39, 37, 39, 38, 37, 38, 38, 38, 39, 39, 39, 39, 39, 39, 39, 39, 39, 39, 39, 39, 39, 39, 39, 37, 35, 38, 39, 39, 37, 38, 38, 38, 34, 39, 37, 37, 39, 39, 39, 39]}, '@SRR1734369.2519954': {'fw_sequence': 'TACGTATGGTGCAAGCGTTATCCGGCTTTACTGGGTGTAAAGGGAGCGTAGACGGCAAGGCAAGTCTGATGTGCAAACCTAGGGCTTAACCCTGGGCCTGCATTGGAAACTGTCTGGCTCGAGTGCCGTAGAGGTAAGCGGAATTCCTAGT', 'fw_qual': [32, 16, 32, 32, 16, 34, 37, 16, 16, 33, 16, 37, 37, 32, 38, 32, 30, 36, 36, 36, 38, 37, 38, 36, 38, 15, 32, 36, 39, 16, 33, 37, 33, 16, 37, 33, 36, 36, 16, 33, 17, 17, 16, 14, 33, 36, 36, 32, 36, 38, 34, 14, 37, 14, 14, 14, 32, 14, 14, 14, 14, 15, 29, 30, 33, 37, 38, 16, 16, 35, 35, 37, 37, 17, 17, 16, 33, 37, 37, 15, 16, 16, 33, 14, 37, 38, 38, 37, 38, 39, 38, 14, 33, 29, 14, 30, 14, 14, 30, 37, 15, 29, 37, 29, 29, 16, 33, 16, 37, 38, 37, 37, 38, 36, 29, 38, 15, 37, 37, 38, 31, 34, 37, 39, 36, 37, 38, 14, 14, 14, 30, 37, 16, 15, 37, 38, 36, 16, 16, 32, 14, 14, 14, 29, 27, 27, 38, 38, 39, 16, 27], 'rev_sequence': 'CCTGTTTGCTACCCACACTTTCGAGCCTCAGCGTCAGTTGGTGCCCCGTAGGCCGCCTTCGCCACTGGTGTTCCTCCTAATATCTACGCATTTCGCCGCTACACTAGGCATTCCGCTTACCTCTCCGGCACTCGAGTCCGCCAGTTTCCAT', 'rev_qual': [32, 32, 30, 32, 32, 35, 35, 37, 37, 33, 37, 37, 38, 38, 16, 32, 32, 32, 37, 32, 37, 38, 34, 34, 39, 34, 36, 38, 15, 16, 33, 37, 32, 36, 30, 15, 36, 39, 38, 33, 16, 36, 37, 33, 37, 39, 14, 32, 36, 32, 14, 33, 16, 16, 14, 32, 36, 36, 36, 38, 36, 38, 14, 33, 14, 16, 37, 15, 16, 29, 33, 36, 17, 36, 38, 35, 15, 33, 16, 16, 33, 17, 33, 33, 33, 37, 38, 37, 36, 38, 38, 38, 39, 38, 39, 34, 30, 36, 34, 36, 36, 30, 33, 27, 38, 33, 27, 15, 15, 33, 33, 37, 33, 38, 33, 30, 34, 34, 36, 37, 37, 38, 38, 37, 27, 15, 27, 14, 14, 14, 32, 39, 38, 32, 34, 13, 16, 15, 16, 29, 12, 27, 29, 31, 34, 38, 38, 39, 15, 28, 15]}, '@SRR1734369.1904475': {'fw_sequence': 'TACGTATGGTGCAAGCGTTATCCGGATTTACTGGGTGTAAAGGGAGCGCAGGCGGTGCGGCAAGTCTGATGTGAAAGCCCGGGGCTCAACCCCGGTACTGCATTGGAAACTGTCGTACTAGAGTGTCGGAGGGGTAAGTGGAATTCCTAGT', 'fw_qual': [33, 32, 30, 32, 32, 37, 37, 37, 37, 37, 37, 37, 37, 38, 38, 38, 38, 38, 38, 30, 38, 38, 39, 38, 38, 37, 38, 38, 39, 39, 39, 39, 39, 39, 39, 37, 36, 36, 37, 37, 37, 39, 39, 38, 39, 38, 38, 38, 38, 38, 38, 38, 38, 38, 38, 38, 38, 38, 38, 38, 38, 38, 38, 38, 39, 39, 39, 39, 39, 39, 39, 39, 39, 37, 37, 39, 39, 39, 38, 39, 38, 38, 38, 38, 37, 38, 39, 39, 39, 38, 39, 38, 38, 38, 38, 38, 37, 38, 39, 39, 39, 35, 37, 38, 39, 39, 39, 39, 37, 39, 39, 39, 39, 39, 38, 38, 39, 39, 39, 36, 38, 38, 39, 39, 39, 39, 38, 38, 38, 34, 38, 38, 38, 38, 38, 38, 39, 39, 39, 39, 39, 38, 39, 39, 39, 39, 39, 39, 39, 39, 39], 'rev_sequence': 'CCTGTTTGCTCCCCACGCTTTCGAGCCTCAGCGTCAGTTATCGTCCAGTAAGCCGCCTTCGCCACTGGTGTTCCTCCTAATATCTACGCATTTCACCGCTACACTAGGAATTCCACTTACCCCTCCGACACTCTAGTACGACAGTTTCCAA', 'rev_qual': [32, 16, 32, 32, 32, 33, 18, 33, 35, 37, 37, 37, 37, 16, 37, 36, 16, 36, 36, 37, 37, 38, 36, 38, 39, 32, 15, 38, 33, 39, 39, 36, 15, 32, 32, 34, 36, 39, 39, 37, 39, 39, 14, 37, 36, 38, 30, 38, 39, 33, 37, 37, 39, 16, 32, 36, 36, 32, 36, 39, 38, 38, 32, 14, 14, 31, 37, 33, 33, 15, 30, 36, 38, 37, 37, 37, 15, 38, 16, 37, 37, 37, 37, 38, 38, 37, 37, 14, 36, 30, 36, 38, 39, 38, 39, 39, 39, 38, 38, 31, 29, 31, 27, 38, 37, 39, 34, 38, 16, 37, 38, 38, 37, 16, 29, 27, 37, 16, 16, 37, 37, 15, 30, 37, 34, 38, 14, 29, 33, 30, 34, 39, 39, 37, 27, 38, 38, 37, 37, 37, 34, 14, 14, 34, 37, 16, 28, 38, 37, 39, 16]}, '@SRR1734369.16874106': {'fw_sequence': 'TACGTAGGGGGCGAGCGTTATCCGGAATTATTGGGCGTAAAGAGTGCGTAGGTGGCTTTTTAAGCGCGGGGTTTAAGGCAATGGCTTAACCATTGTTCGCCCTGCGAACTGGAGAGCTTGAGTGCAGGAGAGGAAAGCGGAATTCCTAGTG', 'fw_qual': [33, 33, 33, 33, 33, 37, 37, 33, 33, 33, 33, 33, 38, 34, 36, 38, 38, 36, 38, 30, 38, 38, 39, 38, 38, 36, 36, 37, 39, 37, 38, 39, 39, 38, 38, 39, 38, 38, 38, 38, 39, 39, 37, 39, 39, 37, 39, 38, 38, 37, 36, 36, 38, 39, 38, 39, 39, 39, 39, 39, 39, 38, 39, 39, 37, 36, 38, 38, 38, 38, 38, 38, 38, 38, 39, 39, 39, 39, 39, 37, 39, 39, 37, 38, 39, 38, 39, 38, 38, 39, 37, 39, 38, 39, 39, 39, 39, 38, 38, 38, 38, 38, 38, 39, 39, 38, 34, 34, 37, 38, 37, 38, 38, 39, 39, 35, 39, 39, 39, 39, 32, 38, 39, 39, 39, 39, 39, 36, 36, 38, 38, 35, 37, 38, 37, 38, 37, 38, 38, 38, 38, 12, 36, 38, 38, 38, 38, 38, 37, 38, 38], 'rev_sequence': 'CCTGTTTGCTCCCCACACTTTCGTGCCTCAGTGTCAGTAACAGTCCAGAAAGCCGCCTTCGCCACTGGTGTTCCTCCTAATATCTACGCATTTCACCGCTACACTAGGCATTCCGCTTTCCTCTCCTGCACTCAAGCTCTCCAGTTCGCAG', 'rev_qual': [32, 33, 33, 33, 32, 37, 31, 33, 35, 35, 33, 34, 37, 38, 38, 38, 38, 38, 38, 38, 38, 38, 38, 37, 37, 38, 39, 39, 39, 39, 34, 33, 35, 38, 39, 39, 39, 39, 38, 39, 39, 39, 38, 39, 39, 39, 39, 39, 39, 39, 33, 39, 39, 37, 37, 38, 37, 36, 36, 38, 37, 36, 38, 38, 38, 39, 39, 39, 36, 37, 38, 36, 38, 38, 39, 39, 38, 37, 18, 37, 38, 39, 37, 39, 39, 39, 38, 38, 37, 38, 38, 38, 37, 38, 39, 39, 39, 35, 34, 38, 31, 36, 35, 38, 39, 37, 37, 37, 18, 33, 34, 38, 39, 39, 39, 36, 37, 38, 38, 39, 39, 39, 39, 39, 39, 39, 39, 39, 38, 33, 38, 37, 38, 39, 37, 38, 39, 39, 39, 37, 39, 39, 38, 37, 38, 38, 39, 37, 38, 35, 32]}, '@SRR1734369.15765690': {'fw_sequence': 'TACGGAGGATCCGAGCGTTATCCGGATTTATTGGGTTTAAAGGGAGCGTAGGCGGGTTGTTAAGTCAGTTGTGAAAGTTTGCGGCTCAACCGTAAAATTGCAGTTGATACTGGCGACCTTGAGTGCAACAGAGGTAGGCGGAATTCGTGGT', 'fw_qual': [34, 34, 34, 34, 34, 34, 34, 34, 34, 37, 37, 37, 38, 38, 38, 38, 38, 38, 38, 36, 38, 38, 39, 38, 38, 38, 38, 38, 39, 39, 39, 39, 39, 39, 39, 38, 38, 38, 38, 38, 39, 39, 39, 38, 39, 38, 38, 38, 38, 38, 38, 38, 39, 38, 38, 38, 38, 38, 38, 38, 39, 39, 39, 39, 39, 39, 39, 39, 39, 39, 39, 39, 38, 39, 39, 39, 39, 39, 39, 39, 39, 39, 38, 38, 38, 38, 38, 39, 39, 39, 39, 38, 38, 39, 38, 39, 39, 39, 39, 39, 39, 39, 39, 38, 39, 39, 39, 39, 39, 39, 39, 39, 39, 39, 38, 38, 38, 38, 38, 39, 39, 39, 39, 39, 39, 39, 39, 39, 39, 39, 39, 37, 38, 38, 39, 39, 39, 38, 39, 38, 38, 38, 38, 38, 39, 39, 38, 38, 38, 38, 32], 'rev_sequence': 'CCTGTTTGATACCCACACTTTCGAGCATCAGCGTCAGTTACAATCCAGTAAGCTGCCTTCGCAATCGGAGTTCTTCGTGATATCTAAGCATTTCACCGCTACACCACGAATTCCGCCTACCTCTGTTGCACTCAAGGTCGCCAGTATCAAC', 'rev_qual': [33, 33, 33, 33, 33, 37, 37, 37, 37, 37, 37, 37, 38, 38, 38, 38, 38, 38, 38, 38, 38, 38, 38, 38, 39, 38, 38, 39, 39, 39, 39, 38, 38, 37, 38, 38, 38, 39, 39, 39, 39, 39, 39, 39, 39, 39, 39, 39, 39, 39, 39, 39, 39, 39, 37, 39, 39, 39, 38, 39, 38, 38, 34, 38, 38, 39, 36, 37, 36, 36, 38, 39, 39, 39, 39, 39, 39, 39, 38, 39, 39, 39, 38, 39, 39, 39, 39, 38, 39, 39, 39, 39, 39, 39, 39, 39, 39, 38, 37, 38, 38, 38, 38, 39, 39, 39, 39, 38, 38, 32, 38, 39, 37, 39, 39, 38, 38, 38, 37, 39, 39, 39, 39, 39, 39, 39, 39, 39, 39, 39, 39, 39, 39, 39, 37, 39, 37, 38, 39, 38, 38, 37, 38, 34, 38, 38, 37, 39, 37, 39, 39]}, '@SRR1734369.6386756': {'fw_sequence': 'TACGTATGGTGCAAGCGTTATCCGGATTTACTGGGTGTAAAGGGAGCGCAGGCGGTGCGGCAAGTCTGATGTGAAAGCCCGGGGCTCAACCCCGGTACTGCATTGGAAACTGTCGTACTAGAGTGTCGGAGGGGTAAGCGGAATTCCTAGT', 'fw_qual': [34, 34, 34, 34, 34, 37, 37, 37, 37, 37, 37, 37, 38, 38, 38, 38, 38, 38, 38, 38, 38, 38, 39, 38, 38, 38, 38, 38, 39, 39, 39, 39, 39, 39, 39, 39, 38, 38, 39, 39, 39, 39, 39, 38, 39, 38, 38, 38, 38, 38, 38, 38, 38, 38, 38, 36, 36, 36, 36, 38, 38, 38, 38, 38, 39, 39, 39, 39, 38, 39, 39, 39, 39, 39, 39, 39, 39, 39, 39, 39, 30, 37, 38, 38, 36, 38, 39, 39, 39, 39, 39, 38, 37, 38, 38, 38, 38, 38, 39, 39, 39, 39, 39, 39, 39, 39, 39, 39, 39, 39, 39, 39, 39, 39, 38, 38, 39, 38, 39, 37, 39, 39, 39, 39, 39, 39, 39, 38, 38, 38, 38, 38, 38, 38, 38, 38, 39, 39, 39, 38, 38, 38, 38, 38, 39, 39, 38, 38, 38, 38, 37], 'rev_sequence': 'CCTGTTTGCTCCCCACGCTTTCGAGCCTCAGCGTCAGTTATCGTCCAGTAAGCCGCCTTCGCCACTGGTGTTCCTCCTAATATCTACGCATTTCACCGCTACACTAGGAATTCCGCTTACCCCTCCGACACTCTAGTACGACAGTTTCCAA', 'rev_qual': [33, 33, 33, 33, 33, 37, 37, 37, 37, 37, 37, 37, 38, 38, 38, 38, 38, 38, 38, 38, 38, 38, 38, 34, 39, 38, 38, 39, 38, 39, 39, 38, 35, 36, 36, 38, 38, 39, 39, 39, 39, 39, 39, 39, 39, 38, 38, 39, 39, 39, 38, 39, 39, 38, 38, 38, 38, 38, 38, 39, 39, 38, 38, 36, 38, 39, 38, 17, 37, 38, 37, 37, 39, 39, 39, 39, 39, 39, 39, 39, 39, 39, 38, 37, 39, 38, 39, 37, 37, 38, 38, 38, 39, 39, 39, 39, 39, 38, 38, 38, 38, 38, 37, 39, 39, 39, 39, 39, 18, 38, 39, 39, 39, 39, 39, 37, 38, 38, 38, 39, 39, 33, 38, 38, 35, 37, 14, 27, 35, 38, 38, 39, 39, 39, 39, 39, 38, 33, 39, 32, 38, 38, 38, 38, 39, 38, 39, 39, 35, 38, 37]}}\n"
     ]
    }
   ],
   "execution_count": 4
  },
  {
   "metadata": {
    "ExecuteTime": {
     "end_time": "2024-12-03T16:56:14.733451Z",
     "start_time": "2024-12-03T16:56:14.728198Z"
    }
   },
   "cell_type": "code",
   "source": "print(len(diz_unito))",
   "id": "29656beb7ee66b33",
   "outputs": [
    {
     "name": "stdout",
     "output_type": "stream",
     "text": [
      "10\n"
     ]
    }
   ],
   "execution_count": 5
  },
  {
   "metadata": {
    "ExecuteTime": {
     "end_time": "2024-12-03T16:36:30.249547Z",
     "start_time": "2024-12-03T16:36:30.241577Z"
    }
   },
   "cell_type": "code",
   "source": [
    "def del_key_with_bad_ee(diz: dict):\n",
    "    chiavi_eliminate = []\n",
    "    for key,value in diz.items():\n",
    "        fw_ee = parse_fastq.exp_err(value['fw_qual'])\n",
    "        rev_ee = parse_fastq.exp_err(value['rev_qual'])\n",
    "        if fw_ee > 3 or rev_ee > 3:\n",
    "            chiavi_eliminate.append(key)\n",
    "    for key in chiavi_eliminate:\n",
    "        del diz[key]\n",
    "    return diz\n",
    "prova = del_key_with_bad_ee(diz_unito)"
   ],
   "id": "9332f5c0fc93d0f0",
   "outputs": [],
   "execution_count": 44
  },
  {
   "metadata": {
    "ExecuteTime": {
     "end_time": "2024-12-03T16:36:31.378311Z",
     "start_time": "2024-12-03T16:36:31.375688Z"
    }
   },
   "cell_type": "code",
   "source": "print(len(prova))",
   "id": "35aeee88d12a806b",
   "outputs": [
    {
     "name": "stdout",
     "output_type": "stream",
     "text": [
      "10\n"
     ]
    }
   ],
   "execution_count": 45
  },
  {
   "metadata": {
    "ExecuteTime": {
     "end_time": "2024-12-03T16:55:06.208263Z",
     "start_time": "2024-12-03T16:55:06.198534Z"
    }
   },
   "cell_type": "code",
   "source": [
    "for key,value in diz_unito.items():\n",
    "    fw_seq = value['fw_sequence']\n",
    "    fw_ql= value['fw_qual']\n",
    "    fw_qual_trimmed = trimming.dynamic_trimming(fw_seq,fw_ql)\n",
    "    value['fw_sequence'] = fw_qual_trimmed[0]\n",
    "    value['fw_qual'] = fw_qual_trimmed[1]\n",
    "\n",
    "for key,value in diz_unito.items():\n",
    "    rev_seq = value['rev_sequence']\n",
    "    rev_ql= value['rev_qual']\n",
    "    rev_qual_trimmed = trimming.dynamic_trimming(rev_seq,rev_ql)\n",
    "    value['rev_sequence'] = rev_qual_trimmed[0]\n",
    "    value['rev_qual'] = rev_qual_trimmed[1]\n",
    "print(diz_unito)"
   ],
   "id": "7b7ba3b48e789b55",
   "outputs": [
    {
     "name": "stdout",
     "output_type": "stream",
     "text": [
      "{'@SRR1734369.2681273': {'fw_sequence': 'TGTAGGGGGCGAGCGTTGTCCGGAATTGGGCGTAAAGGGCGCGGGCGGCAATATAAGTGATGAAAGGTGAGGGCTCAACCCTTAGACTGCATCATACTGTATAGCTTGAGTGAGAGGGCGGTCCTAG', 'fw_qual': [29, 32, 32, 37, 33, 32, 32, 33, 33, 33, 36, 34, 32, 36, 37, 36, 38, 38, 38, 38, 39, 36, 34, 35, 30, 37, 38, 37, 37, 38, 36, 37, 36, 36, 36, 35, 35, 35, 35, 36, 36, 38, 38, 31, 35, 37, 30, 36, 27, 36, 36, 37, 36, 39, 37, 39, 39, 33, 37, 30, 38, 37, 33, 38, 37, 38, 39, 37, 38, 38, 39, 32, 35, 35, 37, 37, 37, 39, 37, 37, 35, 34, 38, 37, 35, 37, 38, 36, 37, 37, 38, 39, 37, 35, 35, 37, 38, 35, 37, 38, 37, 39, 39, 27, 37, 35, 35, 38, 27, 27, 27, 35, 35, 38, 34, 27, 34, 34, 38, 38, 34, 38, 33, 37, 38, 37, 37], 'rev_sequence': 'GTGCTCGCTCGCGTCAGCGTCAGTTATGAGCCAGAAAGCCCTTCGCCTGGTGCTCCTCCTAATATCTACGCATTTCACCGCTACACTAGGAATTCCGCTTTCCTCTCTCACACTCAAGCTATACAGTATCAGA', 'rev_qual': [32, 32, 29, 35, 37, 38, 32, 36, 32, 37, 36, 34, 34, 36, 36, 38, 33, 34, 30, 33, 32, 36, 38, 39, 39, 39, 39, 39, 38, 38, 37, 39, 39, 39, 32, 36, 38, 39, 37, 36, 38, 36, 37, 39, 38, 38, 38, 31, 34, 29, 33, 29, 36, 38, 39, 37, 39, 39, 33, 38, 39, 39, 37, 39, 38, 38, 37, 33, 38, 38, 38, 38, 38, 38, 39, 37, 39, 37, 39, 36, 38, 36, 30, 34, 33, 38, 33, 39, 33, 37, 27, 33, 38, 37, 39, 38, 38, 38, 37, 33, 38, 37, 38, 38, 38, 38, 34, 38, 39, 33, 35, 37, 39, 39, 39, 39, 39, 38, 36, 37, 37, 39, 39, 37, 39, 39, 39, 39, 39, 39, 38, 37, 35]}, '@SRR1734369.8163413': {'fw_sequence': 'AACGTAGGGTGCAAGCGTTGTCCGGAATTACTGGGTGTAAAGGGAGCGCAGGCGGACAAGTTGGAAGTGAAAACCATGGGCTCAACCCATGAATTGCTTTCAAAACTGTTTTTCTTGAGTAGTGCAGAGGTAGATGGAATTCCCGG', 'fw_qual': [29, 32, 32, 33, 33, 37, 37, 33, 33, 37, 33, 33, 38, 38, 38, 38, 38, 38, 38, 38, 38, 38, 39, 38, 38, 38, 37, 37, 39, 39, 39, 39, 38, 39, 39, 37, 37, 38, 38, 39, 39, 39, 38, 38, 36, 38, 38, 38, 38, 38, 38, 38, 38, 38, 38, 37, 38, 39, 39, 39, 39, 39, 39, 39, 37, 37, 38, 39, 39, 33, 39, 39, 39, 39, 38, 37, 39, 39, 39, 39, 39, 39, 39, 39, 39, 39, 39, 38, 32, 34, 34, 33, 37, 38, 38, 37, 37, 35, 38, 38, 37, 37, 38, 39, 38, 39, 37, 39, 39, 39, 39, 39, 38, 39, 39, 39, 36, 27, 37, 38, 39, 39, 39, 39, 38, 39, 39, 36, 39, 38, 38, 38, 39, 37, 38, 37, 39, 39, 39, 39, 39, 37, 39, 39, 38, 38], 'rev_sequence': 'CCTGTTTGCTACCCATGCTTTCGCCTCAGCGTCAGTTGGTGCCCAGTAGACCGCCTTCGCCACTGGTGTTCCTCCCGATACCTACGCATTCCACCGCTACACCGGGAATTCCATCTACCTCTGCACTACTCAAGCAGTTTTGAA', 'rev_qual': [33, 33, 33, 33, 33, 37, 37, 37, 37, 37, 37, 37, 38, 38, 38, 38, 38, 38, 38, 38, 38, 38, 38, 36, 38, 39, 39, 39, 39, 38, 35, 38, 38, 36, 38, 39, 38, 20, 37, 36, 36, 38, 39, 39, 39, 39, 39, 38, 38, 33, 37, 38, 30, 36, 38, 36, 38, 39, 39, 38, 37, 37, 38, 39, 38, 39, 38, 37, 37, 36, 39, 39, 38, 39, 39, 38, 38, 38, 38, 38, 38, 39, 39, 37, 37, 38, 38, 36, 38, 38, 38, 39, 39, 39, 39, 38, 38, 38, 36, 36, 38, 39, 39, 38, 38, 38, 27, 31, 37, 38, 38, 37, 37, 38, 38, 39, 38, 38, 39, 39, 39, 39, 37, 39, 35, 38, 39, 39, 39, 39, 39, 39, 39, 36, 32, 38, 38, 37, 37, 37, 38, 34, 37, 35]}, '@SRR1734369.15311199': {'fw_sequence': 'TACAGAGGTCTCAAGCGTTGTTCGGAATCACTGGGCGTAAAGCGTGCGTAGGCTGTTTCGTAAGTCGTGTGTGAAAGGCAGGGGCTCAACCCCTGGATTGCACATGATACTGCGAGACTAGAGTAATGGAGGGGGAACCGGAATTCTCGGT', 'fw_qual': [33, 33, 34, 34, 34, 37, 37, 34, 37, 37, 37, 37, 38, 38, 38, 38, 38, 38, 38, 38, 38, 38, 39, 38, 38, 38, 38, 38, 39, 39, 39, 39, 39, 39, 38, 39, 38, 38, 38, 38, 39, 39, 39, 38, 38, 35, 38, 38, 37, 38, 38, 38, 39, 39, 38, 39, 39, 39, 39, 38, 39, 39, 39, 39, 39, 39, 38, 38, 38, 39, 39, 38, 39, 39, 39, 39, 39, 39, 39, 39, 38, 38, 37, 38, 36, 38, 39, 39, 39, 39, 39, 38, 38, 38, 38, 39, 39, 39, 39, 39, 38, 39, 39, 39, 39, 39, 39, 39, 39, 39, 39, 39, 39, 38, 38, 38, 38, 38, 39, 39, 39, 39, 39, 39, 38, 39, 39, 39, 39, 39, 39, 38, 38, 38, 38, 38, 38, 38, 38, 38, 38, 38, 38, 38, 39, 39, 39, 38, 38, 38, 38], 'rev_sequence': 'CCCTTTCGCTCCCCTGGCCTTCGTGCCTCAGCGTCAGTTAATGTCCAGGAACCCGCCTTCGCCACGAGTGTTCCTCTCGATATCTACGCATTTCACTGCTACACCGAGAATTCCGGTTCCCCCTCCATTACTCTAGTCTCGCAGTATCAT', 'rev_qual': [33, 33, 33, 33, 33, 37, 37, 33, 32, 32, 33, 33, 38, 38, 38, 34, 38, 38, 38, 38, 38, 38, 38, 37, 38, 38, 39, 39, 37, 39, 38, 39, 34, 36, 37, 38, 38, 38, 39, 39, 39, 39, 38, 39, 39, 39, 39, 39, 38, 37, 39, 39, 38, 38, 38, 38, 38, 32, 36, 38, 37, 37, 38, 37, 38, 38, 34, 37, 36, 34, 36, 38, 39, 39, 39, 39, 39, 39, 38, 39, 39, 39, 36, 39, 39, 38, 39, 38, 38, 38, 38, 38, 39, 39, 39, 39, 39, 39, 38, 39, 39, 37, 39, 39, 39, 38, 38, 38, 38, 38, 39, 39, 39, 39, 38, 30, 27, 34, 38, 39, 39, 39, 38, 38, 38, 38, 39, 39, 39, 39, 39, 39, 39, 38, 39, 39, 39, 39, 39, 39, 39, 38, 38, 35, 36, 37, 38, 39, 39, 37]}, '@SRR1734369.2690313': {'fw_sequence': '', 'fw_qual': [], 'rev_sequence': 'TGTTTGATACCCACACTTTCGAGCATCACAGTTGCAGTCTAGTGAGCTGCCTTCGCAATCGGAGTTCTTCGTGATATCTAAGCATTTCACCGCTACACCACGAATTCCGTGCCTCTACTGTACTCAAGACACCCAGTATCAAC', 'rev_qual': [32, 32, 32, 35, 37, 34, 37, 37, 37, 37, 38, 38, 34, 37, 37, 34, 38, 38, 36, 38, 38, 38, 39, 38, 38, 39, 38, 38, 37, 37, 38, 20, 37, 37, 39, 37, 37, 39, 39, 37, 36, 39, 39, 39, 39, 39, 39, 39, 37, 39, 39, 37, 38, 39, 37, 37, 38, 38, 36, 39, 38, 35, 36, 36, 37, 39, 38, 39, 39, 39, 39, 39, 38, 37, 39, 38, 38, 38, 38, 39, 38, 39, 38, 33, 39, 39, 39, 38, 38, 39, 39, 38, 38, 38, 37, 34, 33, 38, 38, 36, 39, 38, 36, 37, 39, 39, 37, 39, 39, 36, 38, 39, 39, 39, 39, 39, 39, 39, 39, 39, 38, 39, 38, 39, 38, 39, 37, 39, 36, 38, 37, 39, 38, 37, 38, 39, 39, 39, 39, 39, 39, 39, 39]}, '@SRR1734369.2681278': {'fw_sequence': 'TACGGAGGATCCGAGCGTTATCCGGATTTATTGGGTTTAAAGGGAGCGTAGGCGGACGCTTAAGTCAGTTGTGAAAGTTTGCGGCTCAACCGTAAAATTGCAGTTGATACTGGCGACCTTGAGTGCAACAGAGGTAGGCGGAATTCGTGGT', 'fw_qual': [34, 34, 34, 34, 34, 34, 34, 33, 34, 37, 37, 37, 38, 38, 38, 38, 38, 38, 38, 38, 38, 38, 39, 38, 38, 38, 38, 38, 39, 39, 39, 39, 39, 39, 39, 38, 37, 38, 39, 39, 39, 39, 39, 38, 39, 38, 38, 38, 38, 38, 38, 38, 39, 38, 38, 38, 38, 38, 38, 38, 38, 38, 39, 39, 39, 39, 39, 39, 39, 39, 39, 39, 38, 39, 39, 39, 39, 39, 39, 39, 39, 39, 38, 38, 38, 38, 38, 39, 39, 39, 39, 38, 38, 39, 38, 39, 39, 39, 39, 39, 39, 39, 39, 39, 39, 39, 39, 39, 39, 39, 39, 39, 39, 39, 38, 38, 38, 38, 38, 39, 39, 39, 39, 39, 39, 39, 39, 39, 39, 39, 39, 39, 39, 38, 39, 39, 39, 38, 39, 38, 38, 38, 38, 38, 39, 39, 38, 39, 38, 38, 34], 'rev_sequence': 'CCTGTTTGATACCCACACTTTCGAGCATCAGTGTCAGTTGCAGTCTAGTGAGCTGCCTTCGCAATCGGAGTTCTTCGTGATATCTAAGCATTTCACCGCTACACCACGATCCGCCTACCTCTGTTGCACTCAAGGTCGCCAGTATCAAC', 'rev_qual': [33, 33, 33, 32, 33, 37, 37, 37, 37, 37, 37, 37, 38, 38, 38, 38, 38, 38, 38, 37, 37, 38, 38, 38, 39, 38, 38, 39, 37, 39, 33, 36, 37, 38, 38, 39, 38, 39, 39, 39, 39, 39, 39, 38, 39, 39, 37, 39, 39, 39, 38, 39, 39, 39, 33, 38, 39, 37, 39, 38, 36, 36, 36, 38, 36, 39, 38, 32, 33, 32, 36, 38, 39, 39, 39, 39, 39, 39, 38, 39, 39, 39, 38, 39, 39, 38, 38, 38, 39, 37, 39, 39, 39, 39, 39, 39, 39, 38, 37, 38, 37, 34, 38, 39, 38, 39, 39, 37, 36, 39, 37, 39, 38, 37, 38, 38, 38, 39, 39, 39, 39, 39, 39, 39, 39, 39, 39, 39, 39, 39, 39, 39, 37, 35, 38, 39, 39, 37, 38, 38, 38, 34, 39, 37, 37, 39, 39, 39, 39]}, '@SRR1734369.2519954': {'fw_sequence': '', 'fw_qual': [], 'rev_sequence': '', 'rev_qual': []}, '@SRR1734369.1904475': {'fw_sequence': 'TACGTATGGTGCAAGCGTTATCCGGATTTACTGGGTGTAAAGGGAGCGCAGGCGGTGCGGCAAGTCTGATGTGAAAGCCCGGGGCTCAACCCCGGTACTGCATTGGAAACTGTCGTACTAGAGTGTCGGAGGGGTAAGTGGAATTCCTAGT', 'fw_qual': [33, 32, 30, 32, 32, 37, 37, 37, 37, 37, 37, 37, 37, 38, 38, 38, 38, 38, 38, 30, 38, 38, 39, 38, 38, 37, 38, 38, 39, 39, 39, 39, 39, 39, 39, 37, 36, 36, 37, 37, 37, 39, 39, 38, 39, 38, 38, 38, 38, 38, 38, 38, 38, 38, 38, 38, 38, 38, 38, 38, 38, 38, 38, 38, 39, 39, 39, 39, 39, 39, 39, 39, 39, 37, 37, 39, 39, 39, 38, 39, 38, 38, 38, 38, 37, 38, 39, 39, 39, 38, 39, 38, 38, 38, 38, 38, 37, 38, 39, 39, 39, 35, 37, 38, 39, 39, 39, 39, 37, 39, 39, 39, 39, 39, 38, 38, 39, 39, 39, 36, 38, 38, 39, 39, 39, 39, 38, 38, 38, 34, 38, 38, 38, 38, 38, 38, 39, 39, 39, 39, 39, 38, 39, 39, 39, 39, 39, 39, 39, 39, 39], 'rev_sequence': '', 'rev_qual': []}, '@SRR1734369.16874106': {'fw_sequence': 'TACGTAGGGGGCGAGCGTTATCCGGAATTATTGGGCGTAAAGAGTGCGTAGGTGGCTTTTTAAGCGCGGGGTTTAAGGCAATGGCTTAACCATTGTTCGCCCTGCGAACTGGAGAGCTTGAGTGCAGGAGAGGAAAGCGGATCCTAGTG', 'fw_qual': [33, 33, 33, 33, 33, 37, 37, 33, 33, 33, 33, 33, 38, 34, 36, 38, 38, 36, 38, 30, 38, 38, 39, 38, 38, 36, 36, 37, 39, 37, 38, 39, 39, 38, 38, 39, 38, 38, 38, 38, 39, 39, 37, 39, 39, 37, 39, 38, 38, 37, 36, 36, 38, 39, 38, 39, 39, 39, 39, 39, 39, 38, 39, 39, 37, 36, 38, 38, 38, 38, 38, 38, 38, 38, 39, 39, 39, 39, 39, 37, 39, 39, 37, 38, 39, 38, 39, 38, 38, 39, 37, 39, 38, 39, 39, 39, 39, 38, 38, 38, 38, 38, 38, 39, 39, 38, 34, 34, 37, 38, 37, 38, 38, 39, 39, 35, 39, 39, 39, 39, 32, 38, 39, 39, 39, 39, 39, 36, 36, 38, 38, 35, 37, 38, 37, 38, 37, 38, 38, 38, 38, 38, 38, 38, 38, 38, 37, 38, 38], 'rev_sequence': 'CCTGTTTGCTCCCCACACTTTCGTGCCTCAGTGTCAGTAACAGTCCAGAAAGCCGCCTTCGCCACTGGTGTTCCTCCTTATCTACGCATTTCACCGCTACACTAGGTTCCGCTTTCCTCTCCTGCACTCAAGCTCTCCAGTTCGCAG', 'rev_qual': [32, 33, 33, 33, 32, 37, 31, 33, 35, 35, 33, 34, 37, 38, 38, 38, 38, 38, 38, 38, 38, 38, 38, 37, 37, 38, 39, 39, 39, 39, 34, 33, 35, 38, 39, 39, 39, 39, 38, 39, 39, 39, 38, 39, 39, 39, 39, 39, 39, 39, 33, 39, 39, 37, 37, 38, 37, 36, 36, 38, 37, 36, 38, 38, 38, 39, 39, 39, 36, 37, 38, 36, 38, 38, 39, 39, 38, 37, 38, 39, 37, 39, 39, 39, 38, 38, 37, 38, 38, 38, 37, 38, 39, 39, 39, 35, 34, 38, 31, 36, 35, 38, 39, 37, 37, 37, 34, 38, 39, 39, 39, 36, 37, 38, 38, 39, 39, 39, 39, 39, 39, 39, 39, 39, 38, 33, 38, 37, 38, 39, 37, 38, 39, 39, 39, 37, 39, 39, 38, 37, 38, 38, 39, 37, 38, 35, 32]}, '@SRR1734369.15765690': {'fw_sequence': 'TACGGAGGATCCGAGCGTTATCCGGATTTATTGGGTTTAAAGGGAGCGTAGGCGGGTTGTTAAGTCAGTTGTGAAAGTTTGCGGCTCAACCGTAAAATTGCAGTTGATACTGGCGACCTTGAGTGCAACAGAGGTAGGCGGAATTCGTGGT', 'fw_qual': [34, 34, 34, 34, 34, 34, 34, 34, 34, 37, 37, 37, 38, 38, 38, 38, 38, 38, 38, 36, 38, 38, 39, 38, 38, 38, 38, 38, 39, 39, 39, 39, 39, 39, 39, 38, 38, 38, 38, 38, 39, 39, 39, 38, 39, 38, 38, 38, 38, 38, 38, 38, 39, 38, 38, 38, 38, 38, 38, 38, 39, 39, 39, 39, 39, 39, 39, 39, 39, 39, 39, 39, 38, 39, 39, 39, 39, 39, 39, 39, 39, 39, 38, 38, 38, 38, 38, 39, 39, 39, 39, 38, 38, 39, 38, 39, 39, 39, 39, 39, 39, 39, 39, 38, 39, 39, 39, 39, 39, 39, 39, 39, 39, 39, 38, 38, 38, 38, 38, 39, 39, 39, 39, 39, 39, 39, 39, 39, 39, 39, 39, 37, 38, 38, 39, 39, 39, 38, 39, 38, 38, 38, 38, 38, 39, 39, 38, 38, 38, 38, 32], 'rev_sequence': 'CCTGTTTGATACCCACACTTTCGAGCATCAGCGTCAGTTACAATCCAGTAAGCTGCCTTCGCAATCGGAGTTCTTCGTGATATCTAAGCATTTCACCGCTACACCACGAATTCCGCCTACCTCTGTTGCACTCAAGGTCGCCAGTATCAAC', 'rev_qual': [33, 33, 33, 33, 33, 37, 37, 37, 37, 37, 37, 37, 38, 38, 38, 38, 38, 38, 38, 38, 38, 38, 38, 38, 39, 38, 38, 39, 39, 39, 39, 38, 38, 37, 38, 38, 38, 39, 39, 39, 39, 39, 39, 39, 39, 39, 39, 39, 39, 39, 39, 39, 39, 39, 37, 39, 39, 39, 38, 39, 38, 38, 34, 38, 38, 39, 36, 37, 36, 36, 38, 39, 39, 39, 39, 39, 39, 39, 38, 39, 39, 39, 38, 39, 39, 39, 39, 38, 39, 39, 39, 39, 39, 39, 39, 39, 39, 38, 37, 38, 38, 38, 38, 39, 39, 39, 39, 38, 38, 32, 38, 39, 37, 39, 39, 38, 38, 38, 37, 39, 39, 39, 39, 39, 39, 39, 39, 39, 39, 39, 39, 39, 39, 39, 37, 39, 37, 38, 39, 38, 38, 37, 38, 34, 38, 38, 37, 39, 37, 39, 39]}, '@SRR1734369.6386756': {'fw_sequence': 'TACGTATGGTGCAAGCGTTATCCGGATTTACTGGGTGTAAAGGGAGCGCAGGCGGTGCGGCAAGTCTGATGTGAAAGCCCGGGGCTCAACCCCGGTACTGCATTGGAAACTGTCGTACTAGAGTGTCGGAGGGGTAAGCGGAATTCCTAGT', 'fw_qual': [34, 34, 34, 34, 34, 37, 37, 37, 37, 37, 37, 37, 38, 38, 38, 38, 38, 38, 38, 38, 38, 38, 39, 38, 38, 38, 38, 38, 39, 39, 39, 39, 39, 39, 39, 39, 38, 38, 39, 39, 39, 39, 39, 38, 39, 38, 38, 38, 38, 38, 38, 38, 38, 38, 38, 36, 36, 36, 36, 38, 38, 38, 38, 38, 39, 39, 39, 39, 38, 39, 39, 39, 39, 39, 39, 39, 39, 39, 39, 39, 30, 37, 38, 38, 36, 38, 39, 39, 39, 39, 39, 38, 37, 38, 38, 38, 38, 38, 39, 39, 39, 39, 39, 39, 39, 39, 39, 39, 39, 39, 39, 39, 39, 39, 38, 38, 39, 38, 39, 37, 39, 39, 39, 39, 39, 39, 39, 38, 38, 38, 38, 38, 38, 38, 38, 38, 39, 39, 39, 38, 38, 38, 38, 38, 39, 39, 38, 38, 38, 38, 37], 'rev_sequence': 'CCTGTTTGCTCCCCACGCTTTCGAGCCTCAGCGTCAGTTATCGTCCAGTAAGCCGCCTTCGCCACTGGTTCCTCCTAATATCTACGCATTTCACCGCTACACTAGGTTCCGCTTACCCCTCCCACTCTAGTACGACAGTTTCCAA', 'rev_qual': [33, 33, 33, 33, 33, 37, 37, 37, 37, 37, 37, 37, 38, 38, 38, 38, 38, 38, 38, 38, 38, 38, 38, 34, 39, 38, 38, 39, 38, 39, 39, 38, 35, 36, 36, 38, 38, 39, 39, 39, 39, 39, 39, 39, 39, 38, 38, 39, 39, 39, 38, 39, 39, 38, 38, 38, 38, 38, 38, 39, 39, 38, 38, 36, 38, 39, 38, 38, 37, 37, 39, 39, 39, 39, 39, 39, 39, 39, 39, 39, 38, 37, 39, 38, 39, 37, 37, 38, 38, 38, 39, 39, 39, 39, 39, 38, 38, 38, 38, 38, 37, 39, 39, 39, 39, 39, 39, 39, 39, 39, 39, 37, 38, 38, 38, 39, 39, 33, 38, 38, 35, 37, 35, 38, 38, 39, 39, 39, 39, 39, 38, 33, 39, 32, 38, 38, 38, 38, 39, 38, 39, 39, 35, 38, 37]}}\n"
     ]
    }
   ],
   "execution_count": 63
  },
  {
   "metadata": {
    "ExecuteTime": {
     "end_time": "2024-12-03T15:03:50.113883Z",
     "start_time": "2024-12-03T15:03:49.128609Z"
    }
   },
   "cell_type": "code",
   "source": [
    "lenght_list_fw = []\n",
    "lenght_list_rev = []\n",
    "for key,value in prova.items():\n",
    "    lenght_list_fw.append(len(value['fw_sequence']))\n",
    "    lenght_list_rev.append(len(value['rev_sequence']))\n",
    "    \n",
    "for i in range(len(lenght_list_fw)):\n",
    "    for j in range(len(lenght_list_rev)):\n",
    "        while i >= 140 and j >= 140:\n",
    "            for key,value in diz_unito.items():\n",
    "                fw_qual = tools.dinamic_trimming(value['fw_qual'],20,1)\n",
    "                rev_qual = tools.dinamic_trimming(value['rev_qual'],20,1)\n",
    "    \n",
    "    "
   ],
   "id": "6e71185fad013445",
   "outputs": [
    {
     "ename": "TypeError",
     "evalue": "dinamic_trimming() takes from 1 to 2 positional arguments but 3 were given",
     "output_type": "error",
     "traceback": [
      "\u001B[0;31m---------------------------------------------------------------------------\u001B[0m",
      "\u001B[0;31mTypeError\u001B[0m                                 Traceback (most recent call last)",
      "Cell \u001B[0;32mIn[21], line 11\u001B[0m\n\u001B[1;32m      9\u001B[0m \u001B[38;5;28;01mwhile\u001B[39;00m i \u001B[38;5;241m>\u001B[39m\u001B[38;5;241m=\u001B[39m \u001B[38;5;241m140\u001B[39m \u001B[38;5;129;01mand\u001B[39;00m j \u001B[38;5;241m>\u001B[39m\u001B[38;5;241m=\u001B[39m \u001B[38;5;241m140\u001B[39m:\n\u001B[1;32m     10\u001B[0m     \u001B[38;5;28;01mfor\u001B[39;00m key,value \u001B[38;5;129;01min\u001B[39;00m diz_unito\u001B[38;5;241m.\u001B[39mitems():\n\u001B[0;32m---> 11\u001B[0m         fw_qual \u001B[38;5;241m=\u001B[39m \u001B[43mtools\u001B[49m\u001B[38;5;241;43m.\u001B[39;49m\u001B[43mdinamic_trimming\u001B[49m\u001B[43m(\u001B[49m\u001B[43mvalue\u001B[49m\u001B[43m[\u001B[49m\u001B[38;5;124;43m'\u001B[39;49m\u001B[38;5;124;43mfw_qual\u001B[39;49m\u001B[38;5;124;43m'\u001B[39;49m\u001B[43m]\u001B[49m\u001B[43m,\u001B[49m\u001B[38;5;241;43m20\u001B[39;49m\u001B[43m,\u001B[49m\u001B[38;5;241;43m1\u001B[39;49m\u001B[43m)\u001B[49m\n\u001B[1;32m     12\u001B[0m         rev_qual \u001B[38;5;241m=\u001B[39m tools\u001B[38;5;241m.\u001B[39mdinamic_trimming(value[\u001B[38;5;124m'\u001B[39m\u001B[38;5;124mrev_qual\u001B[39m\u001B[38;5;124m'\u001B[39m],\u001B[38;5;241m20\u001B[39m,\u001B[38;5;241m1\u001B[39m)\n",
      "\u001B[0;31mTypeError\u001B[0m: dinamic_trimming() takes from 1 to 2 positional arguments but 3 were given"
     ]
    }
   ],
   "execution_count": 21
  },
  {
   "metadata": {
    "ExecuteTime": {
     "end_time": "2024-12-03T16:56:56.608573Z",
     "start_time": "2024-12-03T16:56:56.603974Z"
    }
   },
   "cell_type": "code",
   "source": [
    "for key,value in diz_unito.items():\n",
    "    comp_rev_1 = value['rev_sequence']\n",
    "    rev = tools.fn_comp_rev(comp_rev_1)[1]\n",
    "    value['rev_sequence'] = rev\n",
    "    "
   ],
   "id": "f82bef650abd2eb",
   "outputs": [],
   "execution_count": 7
  },
  {
   "metadata": {},
   "cell_type": "code",
   "outputs": [],
   "execution_count": null,
   "source": "",
   "id": "754bede53c04e03a"
  },
  {
   "metadata": {
    "ExecuteTime": {
     "end_time": "2024-12-03T14:19:46.983608Z",
     "start_time": "2024-12-03T14:19:46.970097Z"
    }
   },
   "cell_type": "code",
   "source": [
    "def best_alignment (_forward_tr:str, _reverse_comp_rev_tr:str, _qual_forward_trim:list, _qual_reverse_trim_com_rev:list, half_window=10):\n",
    "    nt_overlap = {}\n",
    "    j = 0\n",
    "    while half_window > 0:\n",
    "        overlap_fw = _forward_tr[-half_window:] #prendo solo gli ultimi \"half_window\" nucleotidi dalla stringa forward\n",
    "        overlap_rv = _reverse_comp_rev_tr[:half_window]\n",
    "        overlap_qual_fw = _qual_forward_trim[-half_window:] #prendo solo gli ultimi \"half_window\" valori di qualità dalla lista forward\n",
    "        overlap_qual_rv = _qual_reverse_trim_com_rev[:half_window]\n",
    "    \n",
    "        #controllo delle lunghezze\n",
    "        if not _forward_tr:\n",
    "            raise ValueError(f\"La sequenza forward ha qualche problema. Lunghezza trovata: {len(overlap_fw)}\")\n",
    "        if not _reverse_comp_rev_tr:\n",
    "            raise ValueError(f\"La sequenza reverse ha qualche problema. Lunghezza trovata: {len(overlap_rv)}\")\n",
    "        \n",
    "        match = 0\n",
    "        best_score = 0\n",
    "        nt_overlap[j] = {}\n",
    "        nt_overlap[j]['overlap'] = []\n",
    "        \n",
    "        for i in range(half_window):\n",
    "            if overlap_fw[i] == overlap_rv[half_window-i-1]:\n",
    "                nt_overlap[j]['overlap'].append(overlap_fw[i])\n",
    "                match+=1\n",
    "            else:\n",
    "                if overlap_qual_fw[i] >= overlap_qual_rv[half_window-i-1]:\n",
    "                     nt_overlap[j]['overlap'].append(overlap_fw[i])\n",
    "                else:\n",
    "                     nt_overlap[j]['overlap'].append(overlap_rv[half_window-i-1])\n",
    "        nt_overlap[j]['score'] = match/(half_window)\n",
    "\n",
    "    best_score = 0\n",
    "    for value in nt_overlap.values():\n",
    "        if value['score'] > best_score:\n",
    "            best_score = value['score']\n",
    "            best_overlap = value['overlap']\n",
    "            \n",
    "    if not best_overlap:\n",
    "        raise ValueError(\"Nessun allineamento valido trovato.\")\n",
    "            \n",
    "        half_window-=1\n",
    "        j+=1\n",
    "        \n",
    "    return _forward_tr[:-len(best_overlap)]+\"\".join(best_overlap)+_reverse_comp_rev_tr[len(best_overlap):], best_score"
   ],
   "id": "5f2da76ba9c6f267",
   "outputs": [],
   "execution_count": 12
  },
  {
   "metadata": {
    "ExecuteTime": {
     "end_time": "2024-12-03T14:24:48.309786Z",
     "start_time": "2024-12-03T14:24:48.300575Z"
    }
   },
   "cell_type": "code",
   "source": [
    "def dinamic_trimming(quality: list[int], treshold=25, window=1):\n",
    "    quality_inv = quality[::-1]\n",
    "    list_mean = quality_inv[:window]\n",
    "    if sum(list_mean)/len(list_mean) < treshold:\n",
    "        for value in range(len(list_mean), len(quality_inv)):\n",
    "            if (sum(list_mean)+quality_inv[value])/(len(list_mean)+1) < treshold:\n",
    "                list_mean.append(quality_inv[value])\n",
    "            else:\n",
    "                break\n",
    "        quality_inv_trim = quality_inv[len(list_mean):]\n",
    "    else: quality_inv_trim = quality_inv\n",
    "    return quality_inv_trim[::-1]"
   ],
   "id": "ef1337b8160094b8",
   "outputs": [],
   "execution_count": 13
  },
  {
   "metadata": {
    "ExecuteTime": {
     "end_time": "2024-12-03T14:26:15.709327Z",
     "start_time": "2024-12-03T14:26:15.587199Z"
    }
   },
   "cell_type": "code",
   "source": [
    "ampl_dict = {}\n",
    "keys_list = list(fw_diz.keys())\n",
    "for keys in keys_list[:2]:\n",
    "    ampl_dict[keys] = {}\n",
    "    forward = diz_unito[keys]['fw_sequence']\n",
    "    reverse = diz_unito[keys]['rev_sequence']\n",
    "    qual_forward_trim = dinamic_trimming(fw_diz[keys]['qscore_num'])\n",
    "    qual_reverse_trim = dinamic_trimming(rev_diz[keys]['qscore_num'])\n",
    "    qual_reverse_trim_comp_rev = qual_reverse_trim[::-1]\n",
    "    forward_trim = forward[:len(qual_forward_trim)]\n",
    "    reverse_trim = reverse[:len(qual_reverse_trim)]\n",
    "    #richiamo ora l'amplicone ottenuto dalle reads (post trimming)\n",
    "    amplicone, score_ampl = best_alignment(forward_trim, reverse, qual_forward_trim, qual_reverse_trim_comp_rev)\n",
    "    ampl_dict[keys]['consensus'] = amplicone\n",
    "    ampl_dict[keys]['score'] = score_ampl\n",
    "    print(ampl_dict[keys].values())\n",
    "    print(len(ampl_dict))"
   ],
   "id": "90534c2dfd3758db",
   "outputs": [
    {
     "ename": "KeyError",
     "evalue": "'qscore_num'",
     "output_type": "error",
     "traceback": [
      "\u001B[0;31m---------------------------------------------------------------------------\u001B[0m",
      "\u001B[0;31mKeyError\u001B[0m                                  Traceback (most recent call last)",
      "Cell \u001B[0;32mIn[14], line 7\u001B[0m\n\u001B[1;32m      5\u001B[0m forward \u001B[38;5;241m=\u001B[39m diz_unito[keys][\u001B[38;5;124m'\u001B[39m\u001B[38;5;124mfw_sequence\u001B[39m\u001B[38;5;124m'\u001B[39m]\n\u001B[1;32m      6\u001B[0m reverse \u001B[38;5;241m=\u001B[39m diz_unito[keys][\u001B[38;5;124m'\u001B[39m\u001B[38;5;124mrev_sequence\u001B[39m\u001B[38;5;124m'\u001B[39m]\n\u001B[0;32m----> 7\u001B[0m qual_forward_trim \u001B[38;5;241m=\u001B[39m dinamic_trimming(\u001B[43mfw_diz\u001B[49m\u001B[43m[\u001B[49m\u001B[43mkeys\u001B[49m\u001B[43m]\u001B[49m\u001B[43m[\u001B[49m\u001B[38;5;124;43m'\u001B[39;49m\u001B[38;5;124;43mqscore_num\u001B[39;49m\u001B[38;5;124;43m'\u001B[39;49m\u001B[43m]\u001B[49m)\n\u001B[1;32m      8\u001B[0m qual_reverse_trim \u001B[38;5;241m=\u001B[39m dinamic_trimming(rev_diz[keys][\u001B[38;5;124m'\u001B[39m\u001B[38;5;124mqscore_num\u001B[39m\u001B[38;5;124m'\u001B[39m])\n\u001B[1;32m      9\u001B[0m qual_reverse_trim_comp_rev \u001B[38;5;241m=\u001B[39m qual_reverse_trim[::\u001B[38;5;241m-\u001B[39m\u001B[38;5;241m1\u001B[39m]\n",
      "\u001B[0;31mKeyError\u001B[0m: 'qscore_num'"
     ]
    }
   ],
   "execution_count": 14
  },
  {
   "metadata": {},
   "cell_type": "code",
   "outputs": [],
   "execution_count": null,
   "source": "",
   "id": "9407207255706f64"
  }
 ],
 "metadata": {
  "kernelspec": {
   "display_name": "Python 3",
   "language": "python",
   "name": "python3"
  },
  "language_info": {
   "codemirror_mode": {
    "name": "ipython",
    "version": 2
   },
   "file_extension": ".py",
   "mimetype": "text/x-python",
   "name": "python",
   "nbconvert_exporter": "python",
   "pygments_lexer": "ipython2",
   "version": "2.7.6"
  }
 },
 "nbformat": 4,
 "nbformat_minor": 5
}
